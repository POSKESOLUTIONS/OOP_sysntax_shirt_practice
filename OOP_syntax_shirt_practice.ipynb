{
 "cells": [
  {
   "cell_type": "code",
   "execution_count": null,
   "id": "4f692cf7",
   "metadata": {},
   "outputs": [],
   "source": [
    "#QUESTION AS BELOW\n",
    "\n",
    "\n",
    "{\n",
    " \"cells\": [\n",
    "  {\n",
    "   \"cell_type\": \"markdown\",\n",
    "   \"metadata\": {},\n",
    "   \"source\": [\n",
    "    \"# Use the Shirt Class\\n\",\n",
    "    \"\\n\",\n",
    "    \"You've seen what a class looks like and how to instantiate an object. Now it's your turn to write code that insantiates a shirt object.\\n\",\n",
    "    \"\\n\",\n",
    "    \"# Explanation of the Code\\n\",\n",
    "    \"This exercise using Jupyter notebook includes three files:\\n\",\n",
    "    \"- shirt_exercise.ipynb, which is the file you are currently looking at\\n\",\n",
    "    \"- answer.py containing answers to the exercise\\n\",\n",
    "    \"- tests.py, tests for checking your code - you can run these tests using the last code cell at the bottom of this notebook\\n\",\n",
    "    \"\\n\",\n",
    "    \"# Your Task\\n\",\n",
    "    \"The shirt_exercise.ipynb file, which you are currently looking at if you are reading this, has an exercise to help guide you through coding with an object in Python.\\n\",\n",
    "    \"\\n\",\n",
    "    \"Fill out the TODOs in each section of the Jupyter notebook. You can find a solution in the answer.py file.\\n\",\n",
    "    \"\\n\",\n",
    "    \"First, run this code cell below to load the Shirt class.\"\n",
    "   ]\n",
    "  },\n",
    "  {\n",
    "   \"cell_type\": \"code\",\n",
    "   \"execution_count\": null,\n",
    "   \"metadata\": {},\n",
    "   \"outputs\": [],\n",
    "   \"source\": [\n",
    "    \"class Shirt:\\n\",\n",
    "    \"\\n\",\n",
    "    \"    def __init__(self, shirt_color, shirt_size, shirt_style, shirt_price):\\n\",\n",
    "    \"        self.color = shirt_color\\n\",\n",
    "    \"        self.size = shirt_size\\n\",\n",
    "    \"        self.style = shirt_style\\n\",\n",
    "    \"        self.price = shirt_price\\n\",\n",
    "    \"    \\n\",\n",
    "    \"    def change_price(self, new_price):\\n\",\n",
    "    \"    \\n\",\n",
    "    \"        self.price = new_price\\n\",\n",
    "    \"        \\n\",\n",
    "    \"    def discount(self, discount):\\n\",\n",
    "    \"\\n\",\n",
    "    \"        return self.price * (1 - discount)\"\n",
    "   ]\n",
    "  },\n",
    "  {\n",
    "   \"cell_type\": \"code\",\n",
    "   \"execution_count\": null,\n",
    "   \"metadata\": {},\n",
    "   \"outputs\": [],\n",
    "   \"source\": [\n",
    "    \"### TODO:\\n\",\n",
    "    \"#    - insantiate a shirt object with the following characteristics:\\n\",\n",
    "    \"#        - color red, size S, style long-sleeve, and price 25\\n\",\n",
    "    \"#    - store the object in a variable called shirt_one\\n\",\n",
    "    \"#\\n\",\n",
    "    \"#\\n\",\n",
    "    \"###\"\n",
    "   ]\n",
    "  },\n",
    "  {\n",
    "   \"cell_type\": \"code\",\n",
    "   \"execution_count\": null,\n",
    "   \"metadata\": {},\n",
    "   \"outputs\": [],\n",
    "   \"source\": [\n",
    "    \"### TODO:\\n\",\n",
    "    \"#     - print the price of the shirt using the price attribute\\n\",\n",
    "    \"#     - use the change_price method to change the price of the shirt to 10\\n\",\n",
    "    \"#     - print the price of the shirt using the price attribute\\n\",\n",
    "    \"#     - use the discount method to print the price of the shirt with a 12% discount\\n\",\n",
    "    \"#\\n\",\n",
    "    \"###\"\n",
    "   ]\n",
    "  },\n",
    "  {\n",
    "   \"cell_type\": \"code\",\n",
    "   \"execution_count\": null,\n",
    "   \"metadata\": {},\n",
    "   \"outputs\": [],\n",
    "   \"source\": [\n",
    "    \"### TODO:\\n\",\n",
    "    \"#\\n\",\n",
    "    \"#    - instantiate another object with the following characteristics:\\n\",\n",
    "    \"# .       - color orange, size L, style short-sleeve, and price 10\\n\",\n",
    "    \"#    - store the object in a variable called shirt_two\\n\",\n",
    "    \"#\\n\",\n",
    "    \"###\"\n",
    "   ]\n",
    "  },\n",
    "  {\n",
    "   \"cell_type\": \"code\",\n",
    "   \"execution_count\": null,\n",
    "   \"metadata\": {},\n",
    "   \"outputs\": [],\n",
    "   \"source\": [\n",
    "    \"### TODO:\\n\",\n",
    "    \"#\\n\",\n",
    "    \"#    - calculate the total cost of shirt_one and shirt_two\\n\",\n",
    "    \"#    - store the results in a variable called total\\n\",\n",
    "    \"#    \\n\",\n",
    "    \"###\"\n",
    "   ]\n",
    "  },\n",
    "  {\n",
    "   \"cell_type\": \"code\",\n",
    "   \"execution_count\": null,\n",
    "   \"metadata\": {},\n",
    "   \"outputs\": [],\n",
    "   \"source\": [\n",
    "    \"### TODO:\\n\",\n",
    "    \"#\\n\",\n",
    "    \"#    - use the shirt discount method to calculate the total cost if\\n\",\n",
    "    \"#       shirt_one has a discount of 14% and shirt_two has a discount\\n\",\n",
    "    \"#       of 6%\\n\",\n",
    "    \"#    - store the results in a variable called total_discount\\n\",\n",
    "    \"###\"\n",
    "   ]\n",
    "  },\n",
    "  {\n",
    "   \"cell_type\": \"markdown\",\n",
    "   \"metadata\": {},\n",
    "   \"source\": [\n",
    "    \"# Test your Code\\n\",\n",
    "    \"\\n\",\n",
    "    \"\\n\",\n",
    "    \"The following code cell tests your code. \\n\",\n",
    "    \"\\n\",\n",
    "    \"There is a file called tests.py containing a function called run_tests(). The run_tests() function executes a handful of assert statements to check your work. You can see this file if you go to the Jupyter Notebook menu and click on \\\"File->Open\\\" and then open the tests.py file.\\n\",\n",
    "    \"\\n\",\n",
    "    \"Execute the next code cell. The code will produce an error if your answers in this exercise are not what was expected. Keep working on your code until all tests are passing.\\n\",\n",
    "    \"\\n\",\n",
    "    \"If you run the code cell and there is no output, then you passed all the tests!\\n\",\n",
    "    \"\\n\",\n",
    "    \"As mentioned previously, there's also a file with a solution. To find the solution, click on the Jupyter logo at the top of the workspace, and then enter the folder titled 1.OOP_syntax_shirt_practice\"\n",
    "   ]\n",
    "  },\n",
    "  {\n",
    "   \"cell_type\": \"code\",\n",
    "   \"execution_count\": null,\n",
    "   \"metadata\": {},\n",
    "   \"outputs\": [],\n",
    "   \"source\": [\n",
    "    \"# Unit tests to check your solution\\n\",\n",
    "    \"from tests import run_tests\\n\",\n",
    "    \"\\n\",\n",
    "    \"run_tests(shirt_one, shirt_two, total, total_discount)\"\n",
    "   ]\n",
    "  }\n",
    " ],\n",
    " \"metadata\": {\n",
    "  \"kernelspec\": {\n",
    "   \"display_name\": \"Python 3\",\n",
    "   \"language\": \"python\",\n",
    "   \"name\": \"python3\"\n",
    "  },\n",
    "  \"language_info\": {\n",
    "   \"codemirror_mode\": {\n",
    "    \"name\": \"ipython\",\n",
    "    \"version\": 3\n",
    "   },\n",
    "   \"file_extension\": \".py\",\n",
    "   \"mimetype\": \"text/x-python\",\n",
    "   \"name\": \"python\",\n",
    "   \"nbconvert_exporter\": \"python\",\n",
    "   \"pygments_lexer\": \"ipython3\",\n",
    "   \"version\": \"3.9.1\"\n",
    "  }\n",
    " },\n",
    " \"nbformat\": 4,\n",
    " \"nbformat_minor\": 2\n",
    "}\n"
   ]
  },
  {
   "cell_type": "code",
   "execution_count": 2,
   "id": "3f0d5df2",
   "metadata": {},
   "outputs": [],
   "source": [
    "class Shirt:\n",
    "    \n",
    "        def __init__(self, shirt_color, shirt_size, shirt_style, shirt_price):\n",
    "           self.color = shirt_color\n",
    "           self.size = shirt_size\n",
    "           self.style = shirt_style\n",
    "           self.price = shirt_price\n",
    "       \n",
    "        def change_price(self, new_price):\n",
    "        \n",
    "            self.price = new_price\n",
    "            \n",
    "        def discount(self, discount):\n",
    "    \n",
    "            return self.price * (1 - discount)"
   ]
  },
  {
   "cell_type": "code",
   "execution_count": 3,
   "id": "a336e0d8",
   "metadata": {},
   "outputs": [],
   "source": [
    "shirt_one = Shirt('red', 'S', 'long-sleeve', 25)"
   ]
  },
  {
   "cell_type": "code",
   "execution_count": 4,
   "id": "30c19c78",
   "metadata": {},
   "outputs": [
    {
     "name": "stdout",
     "output_type": "stream",
     "text": [
      "25\n"
     ]
    }
   ],
   "source": [
    "print(shirt_one.price)"
   ]
  },
  {
   "cell_type": "code",
   "execution_count": 5,
   "id": "062daa22",
   "metadata": {},
   "outputs": [],
   "source": [
    "shirt_one.change_price(10)"
   ]
  },
  {
   "cell_type": "code",
   "execution_count": 6,
   "id": "ad9cbe77",
   "metadata": {},
   "outputs": [
    {
     "name": "stdout",
     "output_type": "stream",
     "text": [
      "10\n"
     ]
    }
   ],
   "source": [
    "print(shirt_one.price)"
   ]
  },
  {
   "cell_type": "code",
   "execution_count": 7,
   "id": "23d68d9d",
   "metadata": {},
   "outputs": [
    {
     "name": "stdout",
     "output_type": "stream",
     "text": [
      "8.8\n"
     ]
    }
   ],
   "source": [
    "print(shirt_one.discount(0.12))"
   ]
  },
  {
   "cell_type": "code",
   "execution_count": 8,
   "id": "35c606ea",
   "metadata": {},
   "outputs": [],
   "source": [
    "shirt_two = Shirt('orange', 'L', 'short-sleeve', 10)"
   ]
  },
  {
   "cell_type": "code",
   "execution_count": 22,
   "id": "7abe456a",
   "metadata": {},
   "outputs": [],
   "source": [
    "total = (shirt_one.price + shirt_two.price)"
   ]
  },
  {
   "cell_type": "code",
   "execution_count": 11,
   "id": "4663130a",
   "metadata": {},
   "outputs": [
    {
     "name": "stdout",
     "output_type": "stream",
     "text": [
      "18.8\n"
     ]
    }
   ],
   "source": [
    "print(total)"
   ]
  },
  {
   "cell_type": "code",
   "execution_count": 13,
   "id": "e7e1de42",
   "metadata": {},
   "outputs": [],
   "source": [
    "total_discount = (shirt_one.discount(0.14) + shirt_two.discount(0.06))"
   ]
  },
  {
   "cell_type": "code",
   "execution_count": 14,
   "id": "61380bc6",
   "metadata": {},
   "outputs": [
    {
     "name": "stdout",
     "output_type": "stream",
     "text": [
      "18.0\n"
     ]
    }
   ],
   "source": [
    "print(total_discount)"
   ]
  },
  {
   "cell_type": "code",
   "execution_count": 15,
   "id": "b7dc854b",
   "metadata": {},
   "outputs": [],
   "source": [
    "total_discount = (shirt_one.discount(0.14) + shirt_two.discount(0.12))"
   ]
  },
  {
   "cell_type": "code",
   "execution_count": 16,
   "id": "152d1032",
   "metadata": {},
   "outputs": [
    {
     "name": "stdout",
     "output_type": "stream",
     "text": [
      "17.4\n"
     ]
    }
   ],
   "source": [
    "print(total_discount)"
   ]
  },
  {
   "cell_type": "code",
   "execution_count": 17,
   "id": "2238d818",
   "metadata": {},
   "outputs": [],
   "source": [
    "total_discount = (shirt_one.discount(0.14) + shirt_two.discount(0.06))"
   ]
  },
  {
   "cell_type": "code",
   "execution_count": 20,
   "id": "63eadd75",
   "metadata": {},
   "outputs": [],
   "source": [
    "def run_tests(shirt_one, shirt_two, total_cost, total_discount):\n",
    " \n",
    "    # Unit tests to check your solution\n",
    "    assert shirt_one.price == 10, 'shirt_one price should be 10'\n",
    "    assert shirt_one.color == 'red', ' shirt_one should be red'\n",
    "    assert shirt_one.style == 'long-sleeve', 'shirt_one should be long_sleeve style'\n",
    "    assert shirt_one.size == 'S', 'shirt_one size should be S'\n",
    "\n",
    "    assert shirt_two.price == 10, 'shirt_two price should be 10'\n",
    "    assert shirt_two.color == 'orange', 'shirt_two should be orange'\n",
    "    assert shirt_two.style == 'short-sleeve', 'shirt_two should be short_sleeve style'\n",
    "    assert shirt_two.size == 'L', 'shirt_two size should be L'\n",
    "\n",
    "    assert total_cost == 20, 'the total_cost of both shirts should be 20'\n",
    "    \n",
    "    assert round(total_discount) == 18, 'total_discount should be 18.0'"
   ]
  },
  {
   "cell_type": "code",
   "execution_count": 23,
   "id": "ff74bb5c",
   "metadata": {},
   "outputs": [],
   "source": [
    "total = (shirt_one.price + shirt_two.price)"
   ]
  },
  {
   "cell_type": "code",
   "execution_count": 24,
   "id": "8607dcea",
   "metadata": {},
   "outputs": [
    {
     "name": "stdout",
     "output_type": "stream",
     "text": [
      "20\n"
     ]
    }
   ],
   "source": [
    "print(total)"
   ]
  },
  {
   "cell_type": "code",
   "execution_count": 25,
   "id": "9599ec28",
   "metadata": {},
   "outputs": [],
   "source": [
    "tests = run_tests(shirt_one, shirt_two, total, total_discount)"
   ]
  },
  {
   "cell_type": "code",
   "execution_count": null,
   "id": "c1ff52b6",
   "metadata": {},
   "outputs": [],
   "source": []
  }
 ],
 "metadata": {
  "kernelspec": {
   "display_name": "Python 3 (ipykernel)",
   "language": "python",
   "name": "python3"
  },
  "language_info": {
   "codemirror_mode": {
    "name": "ipython",
    "version": 3
   },
   "file_extension": ".py",
   "mimetype": "text/x-python",
   "name": "python",
   "nbconvert_exporter": "python",
   "pygments_lexer": "ipython3",
   "version": "3.9.7"
  }
 },
 "nbformat": 4,
 "nbformat_minor": 5
}
